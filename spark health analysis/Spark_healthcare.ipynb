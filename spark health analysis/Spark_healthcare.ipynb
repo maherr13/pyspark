{
  "cells": [
    {
      "cell_type": "markdown",
      "id": "abbf1e33",
      "metadata": {
        "id": "abbf1e33"
      },
      "source": [
        "# Spark Healthcare Analysis"
      ]
    },
    {
      "cell_type": "markdown",
      "id": "8326ba88",
      "metadata": {
        "id": "8326ba88"
      },
      "source": [
        "## Objective:\n",
        "- The objective from this project is to create a <b>Logistic Regression Classifier</b> to predict the <b>Stroke Condition</b>.\n",
        "- <b>Stoke</b> is a condition in which either the blood flow to the brain stops or blood flow is excessive.\n",
        "- It is required to obtain <b>ROC > 0.65</b>."
      ]
    },
    {
      "cell_type": "markdown",
      "id": "0eb78c16",
      "metadata": {
        "id": "0eb78c16"
      },
      "source": [
        "### Data:\n",
        "- Data is provided in csv format in a file named <b>healthcare-dataset-stroke-data.csv</b>"
      ]
    },
    {
      "cell_type": "markdown",
      "id": "7c842b79",
      "metadata": {
        "id": "7c842b79"
      },
      "source": [
        "### Column names and data types are as follow:\n",
        "- id, integer.\n",
        "- gender, string.\n",
        "- age, double.\n",
        "- hypertension, integer.\n",
        "- heart_disease, integer.\n",
        "- ever_married, string.\n",
        "- work_type, string.\n",
        "- Residence_type, string.\n",
        "- avg_glucose_level, double.\n",
        "- bmi, double.\n",
        "- smoking_status, string.\n",
        "- stroke, integer <b>(Target Label)</b>.\n",
        "If the person has stroke the stroke label value is <b>\"1\"</b> otherwise <b>\"0\"</b>."
      ]
    },
    {
      "cell_type": "markdown",
      "id": "6971f788",
      "metadata": {
        "id": "6971f788"
      },
      "source": [
        "## To perform this task follow the following guiding steps:"
      ]
    },
    {
      "cell_type": "markdown",
      "id": "e31bc851",
      "metadata": {
        "id": "e31bc851"
      },
      "source": [
        "### Create a spark session and import the required libraries"
      ]
    },
    {
      "cell_type": "code",
      "execution_count": 39,
      "id": "ab3ba311",
      "metadata": {
        "colab": {
          "base_uri": "https://localhost:8080/"
        },
        "id": "ab3ba311",
        "outputId": "8e76db18-f566-49ad-95d7-c932894d7411"
      },
      "outputs": [
        {
          "name": "stdout",
          "output_type": "stream",
          "text": [
            "Collecting pyspark-dist-explore\n",
            "  Downloading pyspark_dist_explore-0.1.8-py3-none-any.whl (7.2 kB)\n",
            "Requirement already satisfied: numpy in /usr/local/lib/python3.7/dist-packages (from pyspark-dist-explore) (1.19.5)\n",
            "Requirement already satisfied: matplotlib in /usr/local/lib/python3.7/dist-packages (from pyspark-dist-explore) (3.2.2)\n",
            "Requirement already satisfied: scipy in /usr/local/lib/python3.7/dist-packages (from pyspark-dist-explore) (1.4.1)\n",
            "Requirement already satisfied: pandas in /usr/local/lib/python3.7/dist-packages (from pyspark-dist-explore) (1.1.5)\n",
            "Requirement already satisfied: kiwisolver>=1.0.1 in /usr/local/lib/python3.7/dist-packages (from matplotlib->pyspark-dist-explore) (1.3.2)\n",
            "Requirement already satisfied: cycler>=0.10 in /usr/local/lib/python3.7/dist-packages (from matplotlib->pyspark-dist-explore) (0.10.0)\n",
            "Requirement already satisfied: pyparsing!=2.0.4,!=2.1.2,!=2.1.6,>=2.0.1 in /usr/local/lib/python3.7/dist-packages (from matplotlib->pyspark-dist-explore) (2.4.7)\n",
            "Requirement already satisfied: python-dateutil>=2.1 in /usr/local/lib/python3.7/dist-packages (from matplotlib->pyspark-dist-explore) (2.8.2)\n",
            "Requirement already satisfied: six in /usr/local/lib/python3.7/dist-packages (from cycler>=0.10->matplotlib->pyspark-dist-explore) (1.15.0)\n",
            "Requirement already satisfied: pytz>=2017.2 in /usr/local/lib/python3.7/dist-packages (from pandas->pyspark-dist-explore) (2018.9)\n",
            "Installing collected packages: pyspark-dist-explore\n",
            "Successfully installed pyspark-dist-explore-0.1.8\n"
          ]
        }
      ],
      "source": [
        "# 1. install all the dependencies in Colab environment i.e. Apache Spark 3.0.1 with hadoop 2.7, Java 8 and Findspark to locate the spark in the system\n",
        "!apt-get install openjdk-8-jdk-headless -qq > /dev/null\n",
        "!wget -q https://archive.apache.org/dist/spark/spark-3.0.1/spark-3.0.1-bin-hadoop2.7.tgz\n",
        "!tar xf spark-3.0.1-bin-hadoop2.7.tgz\n",
        "!pip install -q findspark\n",
        "!pip install pyspark-dist-explore\n",
        "\n",
        "# 2. Setup Environment Variables\n",
        "import os\n",
        "os.environ[\"JAVA_HOME\"] = \"/usr/lib/jvm/java-8-openjdk-amd64\"\n",
        "os.environ[\"SPARK_HOME\"] = \"/content/spark-3.0.1-bin-hadoop2.7\"\n"
      ]
    },
    {
      "cell_type": "markdown",
      "id": "843b8468",
      "metadata": {
        "id": "843b8468"
      },
      "source": [
        "### Create a data schema programatically"
      ]
    },
    {
      "cell_type": "code",
      "execution_count": 2,
      "id": "8616fe16",
      "metadata": {
        "id": "8616fe16"
      },
      "outputs": [],
      "source": [
        "# 3. Start Spark Session\n",
        "import findspark\n",
        "findspark.init()\n",
        "from pyspark.sql import SparkSession\n",
        "spark = SparkSession.builder.master(\"local[*]\").getOrCreate()"
      ]
    },
    {
      "cell_type": "markdown",
      "id": "2d00718f",
      "metadata": {
        "id": "2d00718f"
      },
      "source": [
        "### Read the data using the standard DataReader (Key,Value) pairs format\n",
        "- Provide the schema and any other required options."
      ]
    },
    {
      "cell_type": "code",
      "execution_count": 537,
      "id": "61fcc4cd",
      "metadata": {
        "id": "61fcc4cd"
      },
      "outputs": [],
      "source": [
        "from pyspark.sql.types import StructType,StructField, StringType, IntegerType, DoubleType\n",
        "\n",
        "# id, integer.\n",
        "# gender, string.\n",
        "# age, double.\n",
        "# hypertension, integer.\n",
        "# heart_disease, integer.\n",
        "# ever_married, string.\n",
        "# work_type, string.\n",
        "# Residence_type, string.\n",
        "# avg_glucose_level, double.\n",
        "# bmi, double.\n",
        "# smoking_status, string.\n",
        "\n",
        "schema = StructType([StructField(\"id\", IntegerType(), False),\n",
        "                     StructField(\"gender\", StringType(), False),\n",
        "                                StructField(\"age\", DoubleType(), False),\n",
        "                                StructField(\"hypertension\", IntegerType(), False),\n",
        "                                StructField(\"heart_disease\", IntegerType(), False),\n",
        "                                StructField(\"ever_married\", StringType(), False),\n",
        "                                StructField(\"work_type\", StringType(), False),\n",
        "                                StructField(\"Residence_type\", StringType(), False),\n",
        "                                StructField(\"avg_glucose_level\", DoubleType(), False),\n",
        "                                StructField(\"bmi\", DoubleType(), False),\n",
        "                                StructField(\"smoking_status\", StringType(), False),\n",
        "                                  StructField(\"stroke\", IntegerType(), False)])\n",
        "\n",
        "\n",
        "\n",
        "\n",
        "df = spark.read.csv(\"healthcare-dataset-stroke-data.csv\", header = True, schema= schema)"
      ]
    },
    {
      "cell_type": "markdown",
      "id": "974bc193",
      "metadata": {
        "id": "974bc193"
      },
      "source": [
        "### Explore the data \n",
        "#### You have to do the following:\n",
        "- Print the Schema.\n",
        "- Show the first 10 rows from the data.\n",
        "- Explore null values and show how many null values in each column.\n",
        "- Plot a count plot for the target label and <b>notice the graph</b>.\n",
        "- Perform any additional EDA you find useful."
      ]
    },
    {
      "cell_type": "code",
      "execution_count": 538,
      "id": "353b6f34",
      "metadata": {
        "colab": {
          "base_uri": "https://localhost:8080/"
        },
        "id": "353b6f34",
        "outputId": "364f8a24-50ce-444a-a6bd-58f6eae72274"
      },
      "outputs": [
        {
          "name": "stdout",
          "output_type": "stream",
          "text": [
            "root\n",
            " |-- id: integer (nullable = true)\n",
            " |-- gender: string (nullable = true)\n",
            " |-- age: double (nullable = true)\n",
            " |-- hypertension: integer (nullable = true)\n",
            " |-- heart_disease: integer (nullable = true)\n",
            " |-- ever_married: string (nullable = true)\n",
            " |-- work_type: string (nullable = true)\n",
            " |-- Residence_type: string (nullable = true)\n",
            " |-- avg_glucose_level: double (nullable = true)\n",
            " |-- bmi: double (nullable = true)\n",
            " |-- smoking_status: string (nullable = true)\n",
            " |-- stroke: integer (nullable = true)\n",
            "\n",
            "None\n"
          ]
        }
      ],
      "source": [
        "print(df.printSchema())"
      ]
    },
    {
      "cell_type": "code",
      "execution_count": 539,
      "id": "Gb5j3Id9sy_x",
      "metadata": {
        "colab": {
          "base_uri": "https://localhost:8080/"
        },
        "id": "Gb5j3Id9sy_x",
        "outputId": "71e4be1a-1ea5-494b-f767-8c0eedab0e4d"
      },
      "outputs": [
        {
          "name": "stdout",
          "output_type": "stream",
          "text": [
            "+-----+------+----+------------+-------------+------------+-------------+--------------+-----------------+----+---------------+------+\n",
            "|   id|gender| age|hypertension|heart_disease|ever_married|    work_type|Residence_type|avg_glucose_level| bmi| smoking_status|stroke|\n",
            "+-----+------+----+------------+-------------+------------+-------------+--------------+-----------------+----+---------------+------+\n",
            "| 9046|  Male|67.0|           0|            1|         Yes|      Private|         Urban|           228.69|36.6|formerly smoked|     1|\n",
            "|51676|Female|61.0|           0|            0|         Yes|Self-employed|         Rural|           202.21|null|   never smoked|     1|\n",
            "|31112|  Male|80.0|           0|            1|         Yes|      Private|         Rural|           105.92|32.5|   never smoked|     1|\n",
            "|60182|Female|49.0|           0|            0|         Yes|      Private|         Urban|           171.23|34.4|         smokes|     1|\n",
            "| 1665|Female|79.0|           1|            0|         Yes|Self-employed|         Rural|           174.12|24.0|   never smoked|     1|\n",
            "|56669|  Male|81.0|           0|            0|         Yes|      Private|         Urban|           186.21|29.0|formerly smoked|     1|\n",
            "|53882|  Male|74.0|           1|            1|         Yes|      Private|         Rural|            70.09|27.4|   never smoked|     1|\n",
            "|10434|Female|69.0|           0|            0|          No|      Private|         Urban|            94.39|22.8|   never smoked|     1|\n",
            "|27419|Female|59.0|           0|            0|         Yes|      Private|         Rural|            76.15|null|        Unknown|     1|\n",
            "|60491|Female|78.0|           0|            0|         Yes|      Private|         Urban|            58.57|24.2|        Unknown|     1|\n",
            "+-----+------+----+------------+-------------+------------+-------------+--------------+-----------------+----+---------------+------+\n",
            "only showing top 10 rows\n",
            "\n"
          ]
        }
      ],
      "source": [
        "df.show(10)"
      ]
    },
    {
      "cell_type": "code",
      "execution_count": 540,
      "id": "uFUpIjZos7Bh",
      "metadata": {
        "colab": {
          "base_uri": "https://localhost:8080/"
        },
        "id": "uFUpIjZos7Bh",
        "outputId": "af9c509f-2f0e-4b27-9bfe-ce2cf5371047"
      },
      "outputs": [
        {
          "name": "stdout",
          "output_type": "stream",
          "text": [
            "+---+------+---+------------+-------------+------------+---------+--------------+-----------------+---+--------------+------+\n",
            "| id|gender|age|hypertension|heart_disease|ever_married|work_type|Residence_type|avg_glucose_level|bmi|smoking_status|stroke|\n",
            "+---+------+---+------------+-------------+------------+---------+--------------+-----------------+---+--------------+------+\n",
            "|  0|     0|  0|           0|            0|           0|        0|             0|                0|201|             0|     0|\n",
            "+---+------+---+------------+-------------+------------+---------+--------------+-----------------+---+--------------+------+\n",
            "\n"
          ]
        }
      ],
      "source": [
        "from pyspark.sql.functions import isnan, when, count, col\n",
        "\n",
        "df.select([count(when(col(c).isNull(), c)).alias(c) for c in df.columns]).show()"
      ]
    },
    {
      "cell_type": "code",
      "execution_count": 541,
      "id": "6fb198f0",
      "metadata": {
        "colab": {
          "base_uri": "https://localhost:8080/",
          "height": 332
        },
        "id": "6fb198f0",
        "outputId": "232c6ae6-7760-4f55-d009-b56920d6c6f3"
      },
      "outputs": [
        {
          "data": {
            "text/plain": [
              "(array([4861.,    0.,    0.,    0.,    0.,    0.,    0.,    0.,    0.,\n",
              "         249.]),\n",
              " array([0. , 0.1, 0.2, 0.3, 0.4, 0.5, 0.6, 0.7, 0.8, 0.9, 1. ]),\n",
              " <a list of 10 Patch objects>)"
            ]
          },
          "execution_count": 541,
          "metadata": {},
          "output_type": "execute_result"
        },
        {
          "data": {
            "image/png": "[encoded data removed]",
            "text/plain": [
              "<Figure size 432x288 with 1 Axes>"
            ]
          },
          "metadata": {
            "needs_background": "light"
          },
          "output_type": "display_data"
        }
      ],
      "source": [
        "from pyspark_dist_explore import hist\n",
        "import matplotlib.pyplot as plt\n",
        "import pandas as pd \n",
        "\n",
        "\n",
        "\n",
        "fig, ax = plt.subplots()\n",
        "hist(ax, df.select('stroke'))\n",
        "\n"
      ]
    },
    {
      "cell_type": "markdown",
      "id": "59b770cb",
      "metadata": {
        "id": "59b770cb"
      },
      "source": [
        "### Get the summary statistics of the age column\n",
        "- You will find the minimum age is about <b>0.08</b>.\n",
        "- Remove rows for the age below <b>2 years old</b>."
      ]
    },
    {
      "cell_type": "code",
      "execution_count": 541,
      "id": "ed40fb11",
      "metadata": {
        "id": "ed40fb11",
        "scrolled": false
      },
      "outputs": [],
      "source": []
    },
    {
      "cell_type": "code",
      "execution_count": 542,
      "id": "iB-FYBB7ySRj",
      "metadata": {
        "colab": {
          "base_uri": "https://localhost:8080/"
        },
        "id": "iB-FYBB7ySRj",
        "outputId": "d6eea096-2581-4efd-da44-5ef58f921944"
      },
      "outputs": [
        {
          "name": "stdout",
          "output_type": "stream",
          "text": [
            "+-------+------------------+\n",
            "|summary|               age|\n",
            "+-------+------------------+\n",
            "|  count|              5110|\n",
            "|   mean|43.226614481409015|\n",
            "| stddev| 22.61264672311348|\n",
            "|    min|              0.08|\n",
            "|    25%|              25.0|\n",
            "|    50%|              45.0|\n",
            "|    75%|              61.0|\n",
            "|    max|              82.0|\n",
            "+-------+------------------+\n",
            "\n"
          ]
        }
      ],
      "source": [
        "df.select(\"age\").summary().show()"
      ]
    },
    {
      "cell_type": "code",
      "execution_count": 543,
      "id": "cc99c0be",
      "metadata": {
        "id": "cc99c0be"
      },
      "outputs": [],
      "source": [
        "df = df.filter(df.age > 2)"
      ]
    },
    {
      "cell_type": "code",
      "execution_count": 544,
      "id": "9_hg5hkjzVUC",
      "metadata": {
        "colab": {
          "base_uri": "https://localhost:8080/"
        },
        "id": "9_hg5hkjzVUC",
        "outputId": "4b0592c9-32dc-4fc9-fe5f-794e4e617d69"
      },
      "outputs": [
        {
          "name": "stdout",
          "output_type": "stream",
          "text": [
            "+-------+-----------------+\n",
            "|summary|              age|\n",
            "+-------+-----------------+\n",
            "|  count|             4935|\n",
            "|   mean|44.70982776089159|\n",
            "| stddev|21.56859737335159|\n",
            "|    min|              3.0|\n",
            "|    25%|             27.0|\n",
            "|    50%|             46.0|\n",
            "|    75%|             61.0|\n",
            "|    max|             82.0|\n",
            "+-------+-----------------+\n",
            "\n"
          ]
        }
      ],
      "source": [
        "df.select(\"age\").summary().show()"
      ]
    },
    {
      "cell_type": "markdown",
      "id": "bf8c9498",
      "metadata": {
        "id": "bf8c9498"
      },
      "source": [
        "### Working with gender & smoking_status columns:\n",
        "- Select and show the gender & smoking_status columns\n",
        "- Get the distinct values for each column."
      ]
    },
    {
      "cell_type": "code",
      "execution_count": 545,
      "id": "925a5ecd",
      "metadata": {
        "colab": {
          "base_uri": "https://localhost:8080/"
        },
        "id": "925a5ecd",
        "outputId": "d396b469-bc9c-4df7-f757-3c2f6c1fd899"
      },
      "outputs": [
        {
          "name": "stdout",
          "output_type": "stream",
          "text": [
            "+------+---------------+\n",
            "|gender| smoking_status|\n",
            "+------+---------------+\n",
            "|  Male|formerly smoked|\n",
            "|Female|   never smoked|\n",
            "|  Male|   never smoked|\n",
            "|Female|         smokes|\n",
            "|Female|   never smoked|\n",
            "|  Male|formerly smoked|\n",
            "|  Male|   never smoked|\n",
            "|Female|   never smoked|\n",
            "|Female|        Unknown|\n",
            "|Female|        Unknown|\n",
            "|Female|   never smoked|\n",
            "|Female|         smokes|\n",
            "|Female|         smokes|\n",
            "|  Male|        Unknown|\n",
            "|Female|   never smoked|\n",
            "|Female|   never smoked|\n",
            "|  Male|         smokes|\n",
            "|  Male|         smokes|\n",
            "|Female|   never smoked|\n",
            "|  Male|        Unknown|\n",
            "+------+---------------+\n",
            "only showing top 20 rows\n",
            "\n"
          ]
        }
      ],
      "source": [
        "df.select(\"gender\", \"smoking_status\").show()"
      ]
    },
    {
      "cell_type": "code",
      "execution_count": 546,
      "id": "9dfe35a4",
      "metadata": {
        "colab": {
          "base_uri": "https://localhost:8080/"
        },
        "id": "9dfe35a4",
        "outputId": "5316603c-0c6d-49b4-ef91-6bf53040d032"
      },
      "outputs": [
        {
          "name": "stdout",
          "output_type": "stream",
          "text": [
            "+------+\n",
            "|gender|\n",
            "+------+\n",
            "|Female|\n",
            "| Other|\n",
            "|  Male|\n",
            "+------+\n",
            "\n"
          ]
        }
      ],
      "source": [
        "df.select(\"gender\").distinct().show()"
      ]
    },
    {
      "cell_type": "code",
      "execution_count": 547,
      "id": "b7bf6c7e",
      "metadata": {
        "colab": {
          "base_uri": "https://localhost:8080/"
        },
        "id": "b7bf6c7e",
        "outputId": "b7aed609-02cd-4d7a-c486-137b34fe4aad"
      },
      "outputs": [
        {
          "name": "stdout",
          "output_type": "stream",
          "text": [
            "+---------------+\n",
            "| smoking_status|\n",
            "+---------------+\n",
            "|         smokes|\n",
            "|        Unknown|\n",
            "|   never smoked|\n",
            "|formerly smoked|\n",
            "+---------------+\n",
            "\n"
          ]
        }
      ],
      "source": [
        "df.select(\"smoking_status\").distinct().show()"
      ]
    },
    {
      "cell_type": "markdown",
      "id": "850bdfe1",
      "metadata": {
        "id": "850bdfe1"
      },
      "source": [
        "#### Change the string values of the columns into numerical values as follow:\n",
        "1. Gender column:\n",
        "    * Male = 1 \n",
        "    * Female = 0 \n",
        "    * Other = 0 \n",
        "2. Smoking Status column:\n",
        "  * never smoked = 0\n",
        "  * Unknown = 0.5\n",
        "  * formerly smoked = 0.75\n",
        "  * smokes = 1.0\n"
      ]
    },
    {
      "cell_type": "code",
      "execution_count": 548,
      "id": "355f2ef0",
      "metadata": {
        "id": "355f2ef0"
      },
      "outputs": [],
      "source": [
        "from pyspark.sql.functions import udf, avg\n",
        "\n",
        "\n",
        "def replace_val(val):\n",
        "    if val == \"Unknown\":\n",
        "        return 0.5\n",
        "    elif val == \"never smoked\":\n",
        "        return 0.0\n",
        "    elif val == 'formerly smoked':\n",
        "        return 0.75\n",
        "    elif val == \"smokes\": \n",
        "        return 1.0\n",
        "\n",
        "def replace_gen(val):\n",
        "    if val == \"Male\":\n",
        "        return 1\n",
        "    elif val == \"Female\":\n",
        "        return 0\n",
        "    elif val == 'Other':\n",
        "        return 0\n",
        "    else: \n",
        "        return 1\n",
        "\n",
        "rval = udf(lambda z: replace_val(z),DoubleType())\n",
        "\n",
        "rgen = udf(lambda z: replace_gen(z),IntegerType())\n",
        "\n"
      ]
    },
    {
      "cell_type": "code",
      "execution_count": 549,
      "id": "y60EknXA3D0M",
      "metadata": {
        "colab": {
          "base_uri": "https://localhost:8080/"
        },
        "id": "y60EknXA3D0M",
        "outputId": "c2d1db1d-b252-4751-dfae-4dd7a173f9d2"
      },
      "outputs": [
        {
          "name": "stdout",
          "output_type": "stream",
          "text": [
            "+-----+------+----+------------+-------------+------------+-------------+--------------+-----------------+----+--------------+------+\n",
            "|   id|gender| age|hypertension|heart_disease|ever_married|    work_type|Residence_type|avg_glucose_level| bmi|smoking_status|stroke|\n",
            "+-----+------+----+------------+-------------+------------+-------------+--------------+-----------------+----+--------------+------+\n",
            "| 9046|  Male|67.0|           0|            1|         Yes|      Private|         Urban|           228.69|36.6|          0.75|     1|\n",
            "|51676|Female|61.0|           0|            0|         Yes|Self-employed|         Rural|           202.21|null|           0.0|     1|\n",
            "|31112|  Male|80.0|           0|            1|         Yes|      Private|         Rural|           105.92|32.5|           0.0|     1|\n",
            "|60182|Female|49.0|           0|            0|         Yes|      Private|         Urban|           171.23|34.4|           1.0|     1|\n",
            "| 1665|Female|79.0|           1|            0|         Yes|Self-employed|         Rural|           174.12|24.0|           0.0|     1|\n",
            "|56669|  Male|81.0|           0|            0|         Yes|      Private|         Urban|           186.21|29.0|          0.75|     1|\n",
            "|53882|  Male|74.0|           1|            1|         Yes|      Private|         Rural|            70.09|27.4|           0.0|     1|\n",
            "|10434|Female|69.0|           0|            0|          No|      Private|         Urban|            94.39|22.8|           0.0|     1|\n",
            "|27419|Female|59.0|           0|            0|         Yes|      Private|         Rural|            76.15|null|           0.5|     1|\n",
            "|60491|Female|78.0|           0|            0|         Yes|      Private|         Urban|            58.57|24.2|           0.5|     1|\n",
            "|12109|Female|81.0|           1|            0|         Yes|      Private|         Rural|            80.43|29.7|           0.0|     1|\n",
            "|12095|Female|61.0|           0|            1|         Yes|     Govt_job|         Rural|           120.46|36.8|           1.0|     1|\n",
            "|12175|Female|54.0|           0|            0|         Yes|      Private|         Urban|           104.51|27.3|           1.0|     1|\n",
            "| 8213|  Male|78.0|           0|            1|         Yes|      Private|         Urban|           219.84|null|           0.5|     1|\n",
            "| 5317|Female|79.0|           0|            1|         Yes|      Private|         Urban|           214.09|28.2|           0.0|     1|\n",
            "|58202|Female|50.0|           1|            0|         Yes|Self-employed|         Rural|           167.41|30.9|           0.0|     1|\n",
            "|56112|  Male|64.0|           0|            1|         Yes|      Private|         Urban|           191.61|37.5|           1.0|     1|\n",
            "|34120|  Male|75.0|           1|            0|         Yes|      Private|         Urban|           221.29|25.8|           1.0|     1|\n",
            "|27458|Female|60.0|           0|            0|          No|      Private|         Urban|            89.22|37.8|           0.0|     1|\n",
            "|25226|  Male|57.0|           0|            1|          No|     Govt_job|         Urban|           217.08|null|           0.5|     1|\n",
            "+-----+------+----+------------+-------------+------------+-------------+--------------+-----------------+----+--------------+------+\n",
            "only showing top 20 rows\n",
            "\n"
          ]
        }
      ],
      "source": [
        "df = df.withColumn(\"smoking_status\", rval(col(\"smoking_status\")))\n",
        "df.show()\n"
      ]
    },
    {
      "cell_type": "code",
      "execution_count": 550,
      "id": "4BAjE9yO17X8",
      "metadata": {
        "colab": {
          "base_uri": "https://localhost:8080/"
        },
        "id": "4BAjE9yO17X8",
        "outputId": "4b4abc14-c71e-4282-a44a-ce467a537a03"
      },
      "outputs": [
        {
          "name": "stdout",
          "output_type": "stream",
          "text": [
            "+-----+------+----+------------+-------------+------------+-------------+--------------+-----------------+----+--------------+------+\n",
            "|   id|gender| age|hypertension|heart_disease|ever_married|    work_type|Residence_type|avg_glucose_level| bmi|smoking_status|stroke|\n",
            "+-----+------+----+------------+-------------+------------+-------------+--------------+-----------------+----+--------------+------+\n",
            "| 9046|     1|67.0|           0|            1|         Yes|      Private|         Urban|           228.69|36.6|          0.75|     1|\n",
            "|51676|     0|61.0|           0|            0|         Yes|Self-employed|         Rural|           202.21|null|           0.0|     1|\n",
            "|31112|     1|80.0|           0|            1|         Yes|      Private|         Rural|           105.92|32.5|           0.0|     1|\n",
            "|60182|     0|49.0|           0|            0|         Yes|      Private|         Urban|           171.23|34.4|           1.0|     1|\n",
            "| 1665|     0|79.0|           1|            0|         Yes|Self-employed|         Rural|           174.12|24.0|           0.0|     1|\n",
            "|56669|     1|81.0|           0|            0|         Yes|      Private|         Urban|           186.21|29.0|          0.75|     1|\n",
            "|53882|     1|74.0|           1|            1|         Yes|      Private|         Rural|            70.09|27.4|           0.0|     1|\n",
            "|10434|     0|69.0|           0|            0|          No|      Private|         Urban|            94.39|22.8|           0.0|     1|\n",
            "|27419|     0|59.0|           0|            0|         Yes|      Private|         Rural|            76.15|null|           0.5|     1|\n",
            "|60491|     0|78.0|           0|            0|         Yes|      Private|         Urban|            58.57|24.2|           0.5|     1|\n",
            "|12109|     0|81.0|           1|            0|         Yes|      Private|         Rural|            80.43|29.7|           0.0|     1|\n",
            "|12095|     0|61.0|           0|            1|         Yes|     Govt_job|         Rural|           120.46|36.8|           1.0|     1|\n",
            "|12175|     0|54.0|           0|            0|         Yes|      Private|         Urban|           104.51|27.3|           1.0|     1|\n",
            "| 8213|     1|78.0|           0|            1|         Yes|      Private|         Urban|           219.84|null|           0.5|     1|\n",
            "| 5317|     0|79.0|           0|            1|         Yes|      Private|         Urban|           214.09|28.2|           0.0|     1|\n",
            "|58202|     0|50.0|           1|            0|         Yes|Self-employed|         Rural|           167.41|30.9|           0.0|     1|\n",
            "|56112|     1|64.0|           0|            1|         Yes|      Private|         Urban|           191.61|37.5|           1.0|     1|\n",
            "|34120|     1|75.0|           1|            0|         Yes|      Private|         Urban|           221.29|25.8|           1.0|     1|\n",
            "|27458|     0|60.0|           0|            0|          No|      Private|         Urban|            89.22|37.8|           0.0|     1|\n",
            "|25226|     1|57.0|           0|            1|          No|     Govt_job|         Urban|           217.08|null|           0.5|     1|\n",
            "+-----+------+----+------------+-------------+------------+-------------+--------------+-----------------+----+--------------+------+\n",
            "only showing top 20 rows\n",
            "\n"
          ]
        }
      ],
      "source": [
        "df = df.withColumn(\"gender\", rgen(col(\"gender\")))\n",
        "df.show()\n",
        "\n"
      ]
    },
    {
      "cell_type": "markdown",
      "id": "3da38a31",
      "metadata": {
        "id": "3da38a31"
      },
      "source": [
        "#### Show the output DataFrame\n",
        "- Select and show the gender & smoking_status columns after value changing.\n",
        "- Print schema for the new dataframe."
      ]
    },
    {
      "cell_type": "code",
      "execution_count": 551,
      "id": "7df0cf29",
      "metadata": {
        "colab": {
          "base_uri": "https://localhost:8080/"
        },
        "id": "7df0cf29",
        "outputId": "0644e8f5-7e32-4b2a-de3b-f220403108b0"
      },
      "outputs": [
        {
          "name": "stdout",
          "output_type": "stream",
          "text": [
            "+------+--------------+\n",
            "|gender|smoking_status|\n",
            "+------+--------------+\n",
            "|     1|          0.75|\n",
            "|     0|           0.0|\n",
            "|     1|           0.0|\n",
            "|     0|           1.0|\n",
            "|     0|           0.0|\n",
            "|     1|          0.75|\n",
            "|     1|           0.0|\n",
            "|     0|           0.0|\n",
            "|     0|           0.5|\n",
            "|     0|           0.5|\n",
            "|     0|           0.0|\n",
            "|     0|           1.0|\n",
            "|     0|           1.0|\n",
            "|     1|           0.5|\n",
            "|     0|           0.0|\n",
            "|     0|           0.0|\n",
            "|     1|           1.0|\n",
            "|     1|           1.0|\n",
            "|     0|           0.0|\n",
            "|     1|           0.5|\n",
            "+------+--------------+\n",
            "only showing top 20 rows\n",
            "\n"
          ]
        }
      ],
      "source": [
        "df.select(\"gender\", \"smoking_status\").show()"
      ]
    },
    {
      "cell_type": "code",
      "execution_count": 552,
      "id": "M8DfhZBv5ikC",
      "metadata": {
        "colab": {
          "base_uri": "https://localhost:8080/"
        },
        "id": "M8DfhZBv5ikC",
        "outputId": "943817f8-29a0-41ca-b883-b17205416e4c"
      },
      "outputs": [
        {
          "name": "stdout",
          "output_type": "stream",
          "text": [
            "root\n",
            " |-- id: integer (nullable = true)\n",
            " |-- gender: integer (nullable = true)\n",
            " |-- age: double (nullable = true)\n",
            " |-- hypertension: integer (nullable = true)\n",
            " |-- heart_disease: integer (nullable = true)\n",
            " |-- ever_married: string (nullable = true)\n",
            " |-- work_type: string (nullable = true)\n",
            " |-- Residence_type: string (nullable = true)\n",
            " |-- avg_glucose_level: double (nullable = true)\n",
            " |-- bmi: double (nullable = true)\n",
            " |-- smoking_status: double (nullable = true)\n",
            " |-- stroke: integer (nullable = true)\n",
            "\n"
          ]
        }
      ],
      "source": [
        "df.printSchema()"
      ]
    },
    {
      "cell_type": "markdown",
      "id": "89ce3b77",
      "metadata": {
        "id": "89ce3b77"
      },
      "source": [
        "### Deal with null value according to your data analysis."
      ]
    },
    {
      "cell_type": "code",
      "execution_count": 553,
      "id": "4d78cb87",
      "metadata": {
        "id": "4d78cb87"
      },
      "outputs": [],
      "source": [
        "val = df.select(avg('bmi')).collect()[0][0]\n",
        "df = df.na.fill(val, subset=['bmi'])"
      ]
    },
    {
      "cell_type": "code",
      "execution_count": 554,
      "id": "gYGMa8J586iD",
      "metadata": {
        "colab": {
          "base_uri": "https://localhost:8080/"
        },
        "id": "gYGMa8J586iD",
        "outputId": "659feff2-af0d-4c6d-ab9f-e20c5f22b7f7"
      },
      "outputs": [
        {
          "name": "stdout",
          "output_type": "stream",
          "text": [
            "+---+------+---+------------+-------------+------------+---------+--------------+-----------------+---+--------------+------+\n",
            "| id|gender|age|hypertension|heart_disease|ever_married|work_type|Residence_type|avg_glucose_level|bmi|smoking_status|stroke|\n",
            "+---+------+---+------------+-------------+------------+---------+--------------+-----------------+---+--------------+------+\n",
            "|  0|     0|  0|           0|            0|           0|        0|             0|                0|  0|             0|     0|\n",
            "+---+------+---+------------+-------------+------------+---------+--------------+-----------------+---+--------------+------+\n",
            "\n"
          ]
        }
      ],
      "source": [
        "df.select([count(when(col(c).isNull(), c)).alias(c) for c in df.columns]).show()"
      ]
    },
    {
      "cell_type": "markdown",
      "id": "053c429a",
      "metadata": {
        "id": "053c429a"
      },
      "source": [
        "### Split the data into training and test dataframes:\n",
        "- 80% training and 20% test.\n",
        "- seed = 42.\n",
        "- Save each dataframe as a parquet file"
      ]
    },
    {
      "cell_type": "code",
      "execution_count": 555,
      "id": "0236ea8b",
      "metadata": {
        "id": "0236ea8b"
      },
      "outputs": [],
      "source": [
        "train, test = df.randomSplit([0.8, 0.2], seed = 42)"
      ]
    },
    {
      "cell_type": "code",
      "execution_count": 556,
      "id": "KT3-FTYD9-Ar",
      "metadata": {
        "colab": {
          "base_uri": "https://localhost:8080/"
        },
        "id": "KT3-FTYD9-Ar",
        "outputId": "87a02b1a-67a5-4f2e-c4f8-43c3134c1ff8"
      },
      "outputs": [
        {
          "name": "stdout",
          "output_type": "stream",
          "text": [
            "4.227754237288136\n"
          ]
        }
      ],
      "source": [
        "ct = train.count()\n",
        "cts = test.count()\n",
        "\n",
        "print(ct / cts)"
      ]
    },
    {
      "cell_type": "code",
      "execution_count": 557,
      "id": "eO9XXkk0-K6L",
      "metadata": {
        "id": "eO9XXkk0-K6L"
      },
      "outputs": [],
      "source": [
        "train.write.format(\"parquet\").mode(\"overwrite\").save(\"train.parquet\")\n",
        "test.write.format(\"parquet\").mode(\"overwrite\").save(\"test.parquet\")"
      ]
    },
    {
      "cell_type": "markdown",
      "id": "78fa24da",
      "metadata": {
        "id": "78fa24da"
      },
      "source": [
        "### Read the saved Train and Test DataFrame:\n",
        "- Use the dataframes you read in the subsequent steps."
      ]
    },
    {
      "cell_type": "code",
      "execution_count": 558,
      "id": "3etq2zZK9u-O",
      "metadata": {
        "id": "3etq2zZK9u-O"
      },
      "outputs": [],
      "source": [
        "train = spark.read.parquet(\"train.parquet\")\n",
        "test = spark.read.parquet(\"test.parquet\")\n"
      ]
    },
    {
      "cell_type": "code",
      "execution_count": 559,
      "id": "c3f5c1e3",
      "metadata": {
        "colab": {
          "base_uri": "https://localhost:8080/"
        },
        "id": "c3f5c1e3",
        "outputId": "dce71635-4f98-4dda-befd-127be6a1b7f1"
      },
      "outputs": [
        {
          "name": "stdout",
          "output_type": "stream",
          "text": [
            "+---+------+----+------------+-------------+------------+-------------+--------------+-----------------+------------------+--------------+------+\n",
            "| id|gender| age|hypertension|heart_disease|ever_married|    work_type|Residence_type|avg_glucose_level|               bmi|smoking_status|stroke|\n",
            "+---+------+----+------------+-------------+------------+-------------+--------------+-----------------+------------------+--------------+------+\n",
            "| 67|     0|17.0|           0|            0|          No|      Private|         Urban|            92.97|29.257489451476793|          0.75|     0|\n",
            "| 77|     0|13.0|           0|            0|          No|     children|         Rural|            85.81|              18.6|           0.5|     0|\n",
            "| 91|     0|42.0|           0|            0|          No|      Private|         Urban|            98.53|              18.5|           0.0|     0|\n",
            "| 99|     0|31.0|           0|            0|          No|      Private|         Urban|           108.89|              52.3|           0.5|     0|\n",
            "|121|     0|38.0|           0|            0|         Yes|      Private|         Urban|            91.44|29.257489451476793|           0.5|     0|\n",
            "|132|     0|80.0|           0|            0|         Yes|     Govt_job|         Urban|            84.86|29.257489451476793|           0.5|     0|\n",
            "|163|     0|20.0|           0|            0|          No|      Private|         Rural|            94.67|              28.8|           0.5|     0|\n",
            "|170|     1|43.0|           0|            0|         Yes|     Govt_job|         Rural|            80.07|29.257489451476793|           0.0|     0|\n",
            "|172|     1| 8.0|           0|            0|          No|     children|         Urban|            78.76|29.257489451476793|           0.5|     0|\n",
            "|187|     0|20.0|           0|            0|          No|      Private|         Rural|            84.07|              27.6|           1.0|     0|\n",
            "|210|     1|81.0|           0|            0|         Yes|Self-employed|         Rural|            91.54|              31.4|           0.0|     1|\n",
            "|224|     0|23.0|           0|            0|          No|      Private|         Urban|           110.16|29.257489451476793|           0.0|     0|\n",
            "|239|     1|59.0|           1|            1|         Yes|      Private|         Rural|           246.53|              27.2|          0.75|     0|\n",
            "|242|     1| 4.0|           0|            0|          No|     children|         Urban|            98.56|              17.5|           0.5|     0|\n",
            "|247|     1|31.0|           0|            0|          No|      Private|         Urban|             72.6|              31.6|           0.0|     0|\n",
            "|298|     0|41.0|           0|            0|         Yes|Self-employed|         Rural|            76.66|29.257489451476793|           0.5|     0|\n",
            "|315|     1|45.0|           0|            0|         Yes|      Private|         Rural|            65.42|              39.7|           0.0|     0|\n",
            "|321|     0|79.0|           0|            0|          No|Self-employed|         Rural|            71.98|              36.4|           0.0|     0|\n",
            "|347|     0|16.0|           0|            0|          No|      Private|         Urban|            89.45|29.257489451476793|           0.5|     0|\n",
            "|354|     0|65.0|           0|            0|         Yes|      Private|         Urban|            72.49|              28.9|           1.0|     0|\n",
            "+---+------+----+------------+-------------+------------+-------------+--------------+-----------------+------------------+--------------+------+\n",
            "only showing top 20 rows\n",
            "\n"
          ]
        }
      ],
      "source": [
        "train.show()"
      ]
    },
    {
      "cell_type": "code",
      "execution_count": 560,
      "id": "GoCommpVHXwV",
      "metadata": {
        "colab": {
          "base_uri": "https://localhost:8080/"
        },
        "id": "GoCommpVHXwV",
        "outputId": "58cb127b-6e2e-4826-d579-2c1f97aa6736"
      },
      "outputs": [
        {
          "data": {
            "text/plain": [
              "['ever_married', 'work_type', 'Residence_type']"
            ]
          },
          "execution_count": 560,
          "metadata": {},
          "output_type": "execute_result"
        }
      ],
      "source": [
        "categoricalCols = [field for (field, dataType) in train.dtypes\n",
        "                   if dataType == \"string\"]\n",
        "\n",
        "categoricalCols"
      ]
    },
    {
      "cell_type": "code",
      "execution_count": 561,
      "id": "RZ4ZBsPAHijm",
      "metadata": {
        "colab": {
          "base_uri": "https://localhost:8080/"
        },
        "id": "RZ4ZBsPAHijm",
        "outputId": "213ee500-03bc-4637-dfd1-6371a48f55e3"
      },
      "outputs": [
        {
          "data": {
            "text/plain": [
              "['ever_married_Index', 'work_type_Index', 'Residence_type_Index']"
            ]
          },
          "execution_count": 561,
          "metadata": {},
          "output_type": "execute_result"
        }
      ],
      "source": [
        "indexOutputCols = [x + \"_Index\" for x in categoricalCols]\n",
        "indexOutputCols\n",
        "\n"
      ]
    },
    {
      "cell_type": "code",
      "execution_count": 562,
      "id": "Q-eTpEmMIZrM",
      "metadata": {
        "id": "Q-eTpEmMIZrM"
      },
      "outputs": [],
      "source": [
        "stringIndexer = StringIndexer(inputCols=categoricalCols,\n",
        "                             outputCols=indexOutputCols,\n",
        "                             handleInvalid='skip')\n",
        "oheEncoder = OneHotEncoder(inputCols=indexOutputCols,\n",
        "                          outputCols=oheOutputCols)"
      ]
    },
    {
      "cell_type": "code",
      "execution_count": 563,
      "id": "oFYsYT9SHmON",
      "metadata": {
        "colab": {
          "base_uri": "https://localhost:8080/"
        },
        "id": "oFYsYT9SHmON",
        "outputId": "43c42713-1fd1-470f-ec36-9b412b50abae"
      },
      "outputs": [
        {
          "data": {
            "text/plain": [
              "['ever_married_OHE', 'work_type_OHE', 'Residence_type_OHE']"
            ]
          },
          "execution_count": 563,
          "metadata": {},
          "output_type": "execute_result"
        }
      ],
      "source": [
        "oheOutputCols = [x + \"_OHE\" for x in categoricalCols]\n",
        "oheOutputCols"
      ]
    },
    {
      "cell_type": "code",
      "execution_count": 564,
      "id": "6fnHVs1fHs3d",
      "metadata": {
        "colab": {
          "base_uri": "https://localhost:8080/"
        },
        "id": "6fnHVs1fHs3d",
        "outputId": "1bc2fa13-ad46-40bc-89fb-b9f1c80d8445"
      },
      "outputs": [
        {
          "data": {
            "text/plain": [
              "['age', 'avg_glucose_level', 'bmi', 'smoking_status']"
            ]
          },
          "execution_count": 564,
          "metadata": {},
          "output_type": "execute_result"
        }
      ],
      "source": [
        "numericCols = [field for (field,dataType) in train.dtypes\n",
        "              if ((dataType=='double')& (field!='stroke'))]\n",
        "numericCols"
      ]
    },
    {
      "cell_type": "code",
      "execution_count": 565,
      "id": "FVdZNWznH1st",
      "metadata": {
        "colab": {
          "base_uri": "https://localhost:8080/"
        },
        "id": "FVdZNWznH1st",
        "outputId": "03c10f37-6901-4f8a-f321-74fa14a6c6a2"
      },
      "outputs": [
        {
          "data": {
            "text/plain": [
              "['ever_married_OHE',\n",
              " 'work_type_OHE',\n",
              " 'Residence_type_OHE',\n",
              " 'age',\n",
              " 'avg_glucose_level',\n",
              " 'bmi',\n",
              " 'smoking_status']"
            ]
          },
          "execution_count": 565,
          "metadata": {},
          "output_type": "execute_result"
        }
      ],
      "source": [
        "assemblerInputs = oheOutputCols + numericCols\n",
        "assemblerInputs"
      ]
    },
    {
      "cell_type": "code",
      "execution_count": 566,
      "id": "tYhUU9fOH_i8",
      "metadata": {
        "id": "tYhUU9fOH_i8"
      },
      "outputs": [],
      "source": [
        "vecAssembler = VectorAssembler(inputCols=assemblerInputs,outputCol='features')"
      ]
    },
    {
      "cell_type": "code",
      "execution_count": 566,
      "id": "3278e362",
      "metadata": {
        "id": "3278e362"
      },
      "outputs": [],
      "source": [
        "\n"
      ]
    },
    {
      "cell_type": "markdown",
      "id": "987b4b40",
      "metadata": {
        "id": "987b4b40"
      },
      "source": [
        "### Create the model:\n",
        "- Perform feature engineering steps.\n",
        "- Create the logistic regression classifier.\n",
        "- Build the pipeline model that uses all feature engineering steps and the model.\n",
        "- Train the pipeline model using the trainig dataset."
      ]
    },
    {
      "cell_type": "code",
      "execution_count": 567,
      "id": "4e41b352",
      "metadata": {
        "id": "4e41b352"
      },
      "outputs": [],
      "source": [
        "from pyspark.ml.classification import LogisticRegression\n",
        "\n",
        "lr = LogisticRegression(labelCol='stroke',featuresCol='features')\n",
        "pipeline =Pipeline(stages = [stringIndexer,oheEncoder,vecAssembler,lr])\n"
      ]
    },
    {
      "cell_type": "code",
      "execution_count": 568,
      "id": "106453d7",
      "metadata": {
        "id": "106453d7"
      },
      "outputs": [],
      "source": [
        "pipelineModel = pipeline.fit(train)"
      ]
    },
    {
      "cell_type": "code",
      "execution_count": 569,
      "id": "ya7ilv9FIpoY",
      "metadata": {
        "id": "ya7ilv9FIpoY"
      },
      "outputs": [],
      "source": [
        "predDF = pipelineModel.transform(test)"
      ]
    },
    {
      "cell_type": "code",
      "execution_count": 569,
      "id": "dQEXXEEXItp0",
      "metadata": {
        "id": "dQEXXEEXItp0"
      },
      "outputs": [],
      "source": []
    },
    {
      "cell_type": "markdown",
      "id": "a05c2677",
      "metadata": {
        "id": "a05c2677"
      },
      "source": [
        "### Perform predictions on tests dataframe:\n",
        "- Test the model using the test dataframe\n",
        "- Select and show the feature column.\n",
        "- Print the schema of the output dataframe.\n",
        "- Select and show both prediction and label columns.\n",
        "- Explore the results for the label column stroke=1. i.e. select both columns (prediction,stroke) for stroke=1.<b>notice the result.</b> \n",
        "- Count the predicted 1 and 0 values.<b>notice the result.</b>   "
      ]
    },
    {
      "cell_type": "code",
      "execution_count": 570,
      "id": "d772bef6",
      "metadata": {
        "colab": {
          "base_uri": "https://localhost:8080/"
        },
        "id": "d772bef6",
        "outputId": "a7f73256-ffe5-4d8a-dad4-aaed4922aa12"
      },
      "outputs": [
        {
          "name": "stdout",
          "output_type": "stream",
          "text": [
            "+------+-----+\n",
            "|stroke|count|\n",
            "+------+-----+\n",
            "|     1|   39|\n",
            "|     0|  905|\n",
            "+------+-----+\n",
            "\n"
          ]
        }
      ],
      "source": [
        "predDF.select(\"stroke\").groupBy(\"stroke\").count().show()"
      ]
    },
    {
      "cell_type": "code",
      "execution_count": 570,
      "id": "3ea267eb",
      "metadata": {
        "id": "3ea267eb"
      },
      "outputs": [],
      "source": []
    },
    {
      "cell_type": "code",
      "execution_count": 570,
      "id": "480d892e",
      "metadata": {
        "id": "480d892e",
        "scrolled": false
      },
      "outputs": [],
      "source": []
    },
    {
      "cell_type": "markdown",
      "id": "daec120f",
      "metadata": {
        "id": "daec120f"
      },
      "source": [
        "### Evaluate the model performance\n",
        "- Use <b>BinaryClassificationEvaluator</b>. This will calculate the <b>ROC</b>.\n",
        "- Set the parameters as follow:\n",
        "    - <b>rawPredictionCol='prediction'</b> and <b>labelCol='stroke'</b>"
      ]
    },
    {
      "cell_type": "code",
      "execution_count": 571,
      "id": "a7b5ad25",
      "metadata": {
        "id": "a7b5ad25"
      },
      "outputs": [],
      "source": [
        "from pyspark.ml.evaluation import BinaryClassificationEvaluator"
      ]
    },
    {
      "cell_type": "code",
      "execution_count": 572,
      "id": "44d3a1e6",
      "metadata": {
        "id": "44d3a1e6"
      },
      "outputs": [],
      "source": [
        "evaluatorROC = BinaryClassificationEvaluator(rawPredictionCol='prediction'\n",
        "                                             ,labelCol='stroke')"
      ]
    },
    {
      "cell_type": "code",
      "execution_count": 573,
      "id": "3adbe41f",
      "metadata": {
        "colab": {
          "base_uri": "https://localhost:8080/"
        },
        "id": "3adbe41f",
        "outputId": "7bbf6dc5-6ce9-4d5c-9883-297cb348f052"
      },
      "outputs": [
        {
          "data": {
            "text/plain": [
              "0.4994475138121547"
            ]
          },
          "execution_count": 573,
          "metadata": {},
          "output_type": "execute_result"
        }
      ],
      "source": [
        "evaluatorROC.evaluate(predDF)"
      ]
    },
    {
      "cell_type": "markdown",
      "id": "40206589",
      "metadata": {
        "id": "40206589"
      },
      "source": [
        "### Improve Model Performance\n",
        "- You may noticed that <b>the target label is imbalanced</b>.\n",
        "- LogisticRegression classifier has a special parameter <b>weightCol</b> to deal with imbalanced class.\n",
        "- In order to use this parameter you must have a <b>weightCol</b> in your training dataframe.\n",
        "- In order to create this column you will need to define a <b>UDF</b> and apply it to the target label column.\n",
        "- Create a LogisticRegression classifier with <b>weightCol</b> parameter.\n",
        "- Build and train a pipeline model with the new LogisticRegression.\n",
        "- Perform the prediction on the test dataframe. \n",
        "- Select and show both prediction and label columns.\n",
        "- Explore the results for the label column stroke=1. i.e. select both columns (prediction,stroke) for stroke=1.<b>notice the result.</b> \n",
        "- Count the predicted 1 and 0 values.<b>notice the result.</b>   \n",
        "- Evaluate the model performance exactly as in the previous step.\n",
        "### YOU SHOULD OBTAIN  ROC > 0.65\n",
        "<BR>\n",
        "<b><font color='red'>Note: feel free to deal with the imbalanced cluster with the above method or another. However, you can only use methods applied on SPARK DATAFRAME</font></b>"
      ]
    },
    {
      "cell_type": "code",
      "execution_count": 574,
      "id": "03385adc",
      "metadata": {
        "id": "03385adc"
      },
      "outputs": [],
      "source": [
        "w0 = train.select(\"stroke\").groupBy(\"stroke\").count().collect()[0][0]\n",
        "w1 = train.select(\"stroke\").groupBy(\"stroke\").count().collect()[0][1]\n",
        "\n",
        "def ss(val):\n",
        "    if val == 0:\n",
        "        return w0 / w1\n",
        "    elif val == 1:\n",
        "        return 1.0\n",
        "   \n",
        "\n",
        "ff = udf(lambda z: ss(z),DoubleType())\n",
        "\n",
        "train = train.withColumn(\"ww\", ff(col(\"stroke\")))\n"
      ]
    },
    {
      "cell_type": "code",
      "execution_count": 575,
      "id": "00e034e9",
      "metadata": {
        "colab": {
          "base_uri": "https://localhost:8080/"
        },
        "id": "00e034e9",
        "outputId": "03ed689e-5a15-4083-9831-22bad62d7c3a"
      },
      "outputs": [
        {
          "name": "stdout",
          "output_type": "stream",
          "text": [
            "+---+------+----+------------+-------------+------------+-------------+--------------+-----------------+------------------+--------------+------+--------------------+\n",
            "| id|gender| age|hypertension|heart_disease|ever_married|    work_type|Residence_type|avg_glucose_level|               bmi|smoking_status|stroke|                  ww|\n",
            "+---+------+----+------------+-------------+------------+-------------+--------------+-----------------+------------------+--------------+------+--------------------+\n",
            "| 67|     0|17.0|           0|            0|          No|      Private|         Urban|            92.97|29.257489451476793|          0.75|     0|0.004784688995215311|\n",
            "| 77|     0|13.0|           0|            0|          No|     children|         Rural|            85.81|              18.6|           0.5|     0|0.004784688995215311|\n",
            "| 91|     0|42.0|           0|            0|          No|      Private|         Urban|            98.53|              18.5|           0.0|     0|0.004784688995215311|\n",
            "| 99|     0|31.0|           0|            0|          No|      Private|         Urban|           108.89|              52.3|           0.5|     0|0.004784688995215311|\n",
            "|121|     0|38.0|           0|            0|         Yes|      Private|         Urban|            91.44|29.257489451476793|           0.5|     0|0.004784688995215311|\n",
            "|132|     0|80.0|           0|            0|         Yes|     Govt_job|         Urban|            84.86|29.257489451476793|           0.5|     0|0.004784688995215311|\n",
            "|163|     0|20.0|           0|            0|          No|      Private|         Rural|            94.67|              28.8|           0.5|     0|0.004784688995215311|\n",
            "|170|     1|43.0|           0|            0|         Yes|     Govt_job|         Rural|            80.07|29.257489451476793|           0.0|     0|0.004784688995215311|\n",
            "|172|     1| 8.0|           0|            0|          No|     children|         Urban|            78.76|29.257489451476793|           0.5|     0|0.004784688995215311|\n",
            "|187|     0|20.0|           0|            0|          No|      Private|         Rural|            84.07|              27.6|           1.0|     0|0.004784688995215311|\n",
            "|210|     1|81.0|           0|            0|         Yes|Self-employed|         Rural|            91.54|              31.4|           0.0|     1|                 1.0|\n",
            "|224|     0|23.0|           0|            0|          No|      Private|         Urban|           110.16|29.257489451476793|           0.0|     0|0.004784688995215311|\n",
            "|239|     1|59.0|           1|            1|         Yes|      Private|         Rural|           246.53|              27.2|          0.75|     0|0.004784688995215311|\n",
            "|242|     1| 4.0|           0|            0|          No|     children|         Urban|            98.56|              17.5|           0.5|     0|0.004784688995215311|\n",
            "|247|     1|31.0|           0|            0|          No|      Private|         Urban|             72.6|              31.6|           0.0|     0|0.004784688995215311|\n",
            "|298|     0|41.0|           0|            0|         Yes|Self-employed|         Rural|            76.66|29.257489451476793|           0.5|     0|0.004784688995215311|\n",
            "|315|     1|45.0|           0|            0|         Yes|      Private|         Rural|            65.42|              39.7|           0.0|     0|0.004784688995215311|\n",
            "|321|     0|79.0|           0|            0|          No|Self-employed|         Rural|            71.98|              36.4|           0.0|     0|0.004784688995215311|\n",
            "|347|     0|16.0|           0|            0|          No|      Private|         Urban|            89.45|29.257489451476793|           0.5|     0|0.004784688995215311|\n",
            "|354|     0|65.0|           0|            0|         Yes|      Private|         Urban|            72.49|              28.9|           1.0|     0|0.004784688995215311|\n",
            "+---+------+----+------------+-------------+------------+-------------+--------------+-----------------+------------------+--------------+------+--------------------+\n",
            "only showing top 20 rows\n",
            "\n"
          ]
        }
      ],
      "source": [
        "train.show()"
      ]
    },
    {
      "cell_type": "code",
      "execution_count": 576,
      "id": "66efa0c6",
      "metadata": {
        "id": "66efa0c6"
      },
      "outputs": [],
      "source": [
        "lr = LogisticRegression(labelCol='stroke',featuresCol='features', weightCol= \"ww\")\n",
        "pipeline =Pipeline(stages = [stringIndexer,oheEncoder,vecAssembler,lr])\n",
        "\n",
        "pipelineModel = pipeline.fit(train)\n",
        "pred_W = pipelineModel.transform(test)"
      ]
    },
    {
      "cell_type": "code",
      "execution_count": 577,
      "id": "4e8c18b5",
      "metadata": {
        "colab": {
          "base_uri": "https://localhost:8080/"
        },
        "id": "4e8c18b5",
        "outputId": "8566cd31-6972-4753-ea15-af558f5ae5b3"
      },
      "outputs": [
        {
          "data": {
            "text/plain": [
              "0.6694999291684374"
            ]
          },
          "execution_count": 577,
          "metadata": {},
          "output_type": "execute_result"
        }
      ],
      "source": [
        "evaluatorROC.evaluate(pred_W)"
      ]
    },
    {
      "cell_type": "code",
      "execution_count": 536,
      "id": "dyeHL2vMOGAc",
      "metadata": {
        "id": "dyeHL2vMOGAc"
      },
      "outputs": [],
      "source": []
    }
  ],
  "metadata": {
    "colab": {
      "name": "Spark and Python for Big Data Final Exam.ipynb",
      "provenance": []
    },
    "interpreter": {
      "hash": "32416b200cf42832a6d4820d88167a5d846cedda9304b4abbeaf629821219b36"
    },
    "kernelspec": {
      "display_name": "Python 3.9.1 64-bit",
      "name": "python3"
    },
    "language_info": {
      "codemirror_mode": {
        "name": "ipython",
        "version": 3
      },
      "file_extension": ".py",
      "mimetype": "text/x-python",
      "name": "python",
      "nbconvert_exporter": "python",
      "pygments_lexer": "ipython3",
      "version": "3.9.1"
    }
  },
  "nbformat": 4,
  "nbformat_minor": 5
}
