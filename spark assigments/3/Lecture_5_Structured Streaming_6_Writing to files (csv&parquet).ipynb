{
 "cells": [
  {
   "cell_type": "code",
   "execution_count": 1,
   "id": "39010447",
   "metadata": {},
   "outputs": [],
   "source": [
    "import findspark\n",
    "findspark.init()\n",
    "import pyspark"
   ]
  },
  {
   "cell_type": "code",
   "execution_count": 2,
   "id": "62bf1ee0",
   "metadata": {},
   "outputs": [],
   "source": [
    "from pyspark.sql import SparkSession\n",
    "spark = SparkSession.builder.appName(\"Writing to csv\").getOrCreate()"
   ]
  },
  {
   "cell_type": "code",
   "execution_count": 3,
   "id": "293635c2",
   "metadata": {},
   "outputs": [],
   "source": [
    "inputDirectory = '/home/hhhhh/ds'"
   ]
  },
  {
   "cell_type": "code",
   "execution_count": 4,
   "id": "898bcc08",
   "metadata": {},
   "outputs": [],
   "source": [
    "from pyspark.sql.types import (StructType, StructField,\n",
    "                               StringType, IntegerType)\n",
    "\n",
    "recordSchema = StructType([StructField('date', StringType(), True),\n",
    "                           StructField('delay', IntegerType(), True),\n",
    "                           StructField('distance', IntegerType(), True),\n",
    "                           StructField('origin', StringType(), True),\n",
    "                           StructField('destination', StringType(), True)])"
   ]
  },
  {
   "cell_type": "code",
   "execution_count": 5,
   "id": "ff6e3e21",
   "metadata": {},
   "outputs": [],
   "source": [
    "df = spark.readStream.format(\"csv\") \\\n",
    "    .schema(recordSchema) \\\n",
    "    .load(\"/home/hhhhh/ds/\")"
   ]
  },
  {
   "cell_type": "code",
   "execution_count": null,
   "id": "1884e548",
   "metadata": {},
   "outputs": [],
   "source": [
    "query = df.writeStream.outputMode(\"append\") \\\n",
    "    .format(\"csv\")  \\\n",
    "    .option(\"path\", \"/home/hhhhh/OutStream\") \\\n",
    "    .option(\"checkpointLocation\", \"chkpnt\") \\\n",
    "    .start()\n",
    "\n",
    "query.awaitTermination()"
   ]
  },
  {
   "cell_type": "code",
   "execution_count": null,
   "id": "bb801a40",
   "metadata": {},
   "outputs": [],
   "source": [
    "query = df.writeStream.outputMode(\"append\") \\\n",
    "    .format(\"parquet\")  \\\n",
    "    .option(\"path\", \"/home/hhhhh/OutStream\") \\\n",
    "    .option(\"checkpointLocation\", \"chkpnt\") \\\n",
    "    .start()\n",
    "\n",
    "query.awaitTermination()"
   ]
  },
  {
   "cell_type": "code",
   "execution_count": null,
   "id": "fafe0119",
   "metadata": {},
   "outputs": [],
   "source": []
  }
 ],
 "metadata": {
  "kernelspec": {
   "display_name": "Python 3",
   "language": "python",
   "name": "python3"
  },
  "language_info": {
   "codemirror_mode": {
    "name": "ipython",
    "version": 3
   },
   "file_extension": ".py",
   "mimetype": "text/x-python",
   "name": "python",
   "nbconvert_exporter": "python",
   "pygments_lexer": "ipython3",
   "version": "3.8.8"
  }
 },
 "nbformat": 4,
 "nbformat_minor": 5
}
